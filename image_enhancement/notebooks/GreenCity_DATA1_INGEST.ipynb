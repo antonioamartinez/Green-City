{
 "cells": [
  {
   "metadata": {},
   "cell_type": "markdown",
   "source": "IMPORTS",
   "id": "f629a2da1b3c9d31"
  },
  {
   "cell_type": "code",
   "id": "419c709d582f69df",
   "metadata": {
    "ExecuteTime": {
     "end_time": "2025-07-30T21:22:36.182534Z",
     "start_time": "2025-07-30T21:22:36.166856Z"
    }
   },
   "source": [
    "from shapely.geometry import Point\n",
    "import ee\n",
    "import geopandas as gpd\n",
    "import hashlib\n",
    "import os\n",
    "import pandas as pd\n",
    "import random\n",
    "import rasterio\n",
    "import shutil\n",
    "import urllib.request"
   ],
   "outputs": [],
   "execution_count": 22
  },
  {
   "metadata": {},
   "cell_type": "markdown",
   "source": "CONFIG",
   "id": "4480338f35fb8a43"
  },
  {
   "cell_type": "code",
   "id": "fe70b3bc73fe8dc3",
   "metadata": {
    "ExecuteTime": {
     "end_time": "2025-07-30T21:22:36.219643Z",
     "start_time": "2025-07-30T21:22:36.203992Z"
    }
   },
   "source": [
    "# === CONFIG === ## Paths & File Extensions\n",
    "CSV_PATH = \"pasadena.csv\"\n",
    "BASE_DIR = \"chips\"\n",
    "IMAGE_EXT = \".tif\"  # or \".png\" or \".tiff\" or other common image file extension\n",
    "\n",
    "# Directory Builder Labels - for neatness - go crazy with it\n",
    "L1 = \"256\"\n",
    "L2 = \"512\"\n",
    "L3 = \"30cm\"\n",
    "L4 = \"60cm\"\n",
    "L5 = \"RGB\"\n",
    "L6 = \"RGBN\"\n",
    "L7 = \"GT\"\n",
    "L8 = \"2K\"\n",
    "\n",
    "# Image Directory Names - chip children\n",
    "IMAGE_DIR_1 = f\"pasadena_{L1}_{L4}_{L5}_{L7}{L8}\"\n",
    "IMAGE_DIR_2 = f\"pasadena_{L1}_{L4}_{L5}_{L7}\"\n",
    "IMAGE_DIR_3 = f\"final\"\n",
    "\n",
    "# Output Directory\n",
    "OUTPUT_DIR = os.path.join(BASE_DIR, IMAGE_DIR_3)\n",
    "os.makedirs(OUTPUT_DIR, exist_ok=True)\n",
    "\n",
    "# For Testing\n",
    "TEST_STOP = 5  # this is a loop stop condition used for testing throughput"
   ],
   "outputs": [],
   "execution_count": 23
  },
  {
   "metadata": {},
   "cell_type": "markdown",
   "source": "DATA",
   "id": "7ac2e79698477ebf"
  },
  {
   "metadata": {
    "ExecuteTime": {
     "end_time": "2025-07-30T21:22:36.400273Z",
     "start_time": "2025-07-30T21:22:36.242738Z"
    }
   },
   "cell_type": "code",
   "source": [
    "# === LOAD TREE POINT === #\n",
    "df = pd.read_csv(CSV_PATH)\n",
    "df.head(3)"
   ],
   "id": "5f1c2a586b7cd41b",
   "outputs": [
    {
     "data": {
      "text/plain": [
       "   OBJECTID  Tree_Rec  Alt_Tree_ID       Common_Name    Genus     Species  \\\n",
       "0         2     69861           13       CHINESE ELM    ULMUS  PARVIFOLIA   \n",
       "1         3     69862           15  SAWTOOTH ZELKOVA  ZELKOVA     SERRATA   \n",
       "2         4     69863           16       CHINESE ELM    ULMUS  PARVIFOLIA   \n",
       "\n",
       "  Status_Text  House_Number Street_Direction Street_Name Street_Type  \\\n",
       "0      Active         850.0              NaN    ADELAIDE          DR   \n",
       "1      Active         858.0              NaN    ADELAIDE          DR   \n",
       "2      Active         859.0              NaN    ADELAIDE          DR   \n",
       "\n",
       "   Street_Suffix  Trunk_Diameter  X_Coordinate  Y_Coordinate  \\\n",
       "0            NaN            16.0  6.528584e+06  1.880864e+06   \n",
       "1            NaN            16.0  6.528584e+06  1.880894e+06   \n",
       "2            NaN            14.0  6.528544e+06  1.880891e+06   \n",
       "\n",
       "  Classification_Text             x             y  \n",
       "0         Street Tree  6.528584e+06  1.880864e+06  \n",
       "1         Street Tree  6.528584e+06  1.880894e+06  \n",
       "2         Street Tree  6.528544e+06  1.880891e+06  "
      ],
      "text/html": [
       "<div>\n",
       "<style scoped>\n",
       "    .dataframe tbody tr th:only-of-type {\n",
       "        vertical-align: middle;\n",
       "    }\n",
       "\n",
       "    .dataframe tbody tr th {\n",
       "        vertical-align: top;\n",
       "    }\n",
       "\n",
       "    .dataframe thead th {\n",
       "        text-align: right;\n",
       "    }\n",
       "</style>\n",
       "<table border=\"1\" class=\"dataframe\">\n",
       "  <thead>\n",
       "    <tr style=\"text-align: right;\">\n",
       "      <th></th>\n",
       "      <th>OBJECTID</th>\n",
       "      <th>Tree_Rec</th>\n",
       "      <th>Alt_Tree_ID</th>\n",
       "      <th>Common_Name</th>\n",
       "      <th>Genus</th>\n",
       "      <th>Species</th>\n",
       "      <th>Status_Text</th>\n",
       "      <th>House_Number</th>\n",
       "      <th>Street_Direction</th>\n",
       "      <th>Street_Name</th>\n",
       "      <th>Street_Type</th>\n",
       "      <th>Street_Suffix</th>\n",
       "      <th>Trunk_Diameter</th>\n",
       "      <th>X_Coordinate</th>\n",
       "      <th>Y_Coordinate</th>\n",
       "      <th>Classification_Text</th>\n",
       "      <th>x</th>\n",
       "      <th>y</th>\n",
       "    </tr>\n",
       "  </thead>\n",
       "  <tbody>\n",
       "    <tr>\n",
       "      <th>0</th>\n",
       "      <td>2</td>\n",
       "      <td>69861</td>\n",
       "      <td>13</td>\n",
       "      <td>CHINESE ELM</td>\n",
       "      <td>ULMUS</td>\n",
       "      <td>PARVIFOLIA</td>\n",
       "      <td>Active</td>\n",
       "      <td>850.0</td>\n",
       "      <td>NaN</td>\n",
       "      <td>ADELAIDE</td>\n",
       "      <td>DR</td>\n",
       "      <td>NaN</td>\n",
       "      <td>16.0</td>\n",
       "      <td>6.528584e+06</td>\n",
       "      <td>1.880864e+06</td>\n",
       "      <td>Street Tree</td>\n",
       "      <td>6.528584e+06</td>\n",
       "      <td>1.880864e+06</td>\n",
       "    </tr>\n",
       "    <tr>\n",
       "      <th>1</th>\n",
       "      <td>3</td>\n",
       "      <td>69862</td>\n",
       "      <td>15</td>\n",
       "      <td>SAWTOOTH ZELKOVA</td>\n",
       "      <td>ZELKOVA</td>\n",
       "      <td>SERRATA</td>\n",
       "      <td>Active</td>\n",
       "      <td>858.0</td>\n",
       "      <td>NaN</td>\n",
       "      <td>ADELAIDE</td>\n",
       "      <td>DR</td>\n",
       "      <td>NaN</td>\n",
       "      <td>16.0</td>\n",
       "      <td>6.528584e+06</td>\n",
       "      <td>1.880894e+06</td>\n",
       "      <td>Street Tree</td>\n",
       "      <td>6.528584e+06</td>\n",
       "      <td>1.880894e+06</td>\n",
       "    </tr>\n",
       "    <tr>\n",
       "      <th>2</th>\n",
       "      <td>4</td>\n",
       "      <td>69863</td>\n",
       "      <td>16</td>\n",
       "      <td>CHINESE ELM</td>\n",
       "      <td>ULMUS</td>\n",
       "      <td>PARVIFOLIA</td>\n",
       "      <td>Active</td>\n",
       "      <td>859.0</td>\n",
       "      <td>NaN</td>\n",
       "      <td>ADELAIDE</td>\n",
       "      <td>DR</td>\n",
       "      <td>NaN</td>\n",
       "      <td>14.0</td>\n",
       "      <td>6.528544e+06</td>\n",
       "      <td>1.880891e+06</td>\n",
       "      <td>Street Tree</td>\n",
       "      <td>6.528544e+06</td>\n",
       "      <td>1.880891e+06</td>\n",
       "    </tr>\n",
       "  </tbody>\n",
       "</table>\n",
       "</div>"
      ]
     },
     "execution_count": 24,
     "metadata": {},
     "output_type": "execute_result"
    }
   ],
   "execution_count": 24
  },
  {
   "metadata": {},
   "cell_type": "markdown",
   "source": "XY TO LAT LONG FUNCTION - Detailed info on worldwide coordinate systems can be found here: https://epsg.io/",
   "id": "5321ad6364ac79b3"
  },
  {
   "metadata": {
    "ExecuteTime": {
     "end_time": "2025-07-30T21:22:36.479826Z",
     "start_time": "2025-07-30T21:22:36.463739Z"
    }
   },
   "cell_type": "code",
   "source": [
    "def convert_coordinates(x, y, from_crs=\"EPSG:2229\", to_crs=\"EPSG:4326\"):\n",
    "    \"\"\"Converts a single X, Y projected coordinate pair to (lat, lon).\"\"\"\n",
    "    point = gpd.GeoSeries([Point(x, y)], crs=from_crs).to_crs(to_crs)\n",
    "    return point.y.iloc[0], point.x.iloc[0]  # returns (lat, lon) tuple"
   ],
   "id": "c2d53055bd46e9a2",
   "outputs": [],
   "execution_count": 25
  },
  {
   "metadata": {
    "ExecuteTime": {
     "end_time": "2025-07-30T21:23:28.126585Z",
     "start_time": "2025-07-30T21:22:36.643826Z"
    }
   },
   "cell_type": "code",
   "source": [
    "# Convert from X/Y to Lat/Long\n",
    "df.columns = df.columns.str.lower() # all column names to lower\n",
    "df[[\"lat\", \"lon\"]] = df.apply(lambda row: pd.Series(convert_coordinates(row[\"x_coordinate\"], row[\"y_coordinate\"])), axis=1)\n",
    "# df.head(1)\n",
    "\n",
    "# Create a new geodetic pair\n",
    "df[\"geodetic_pair\"] = list(zip(df[\"lat\"], df[\"lon\"]))\n",
    "df.head(1)"
   ],
   "id": "d7ba13470842361",
   "outputs": [
    {
     "data": {
      "text/plain": [
       "   objectid  tree_rec  alt_tree_id  common_name  genus     species  \\\n",
       "0         2     69861           13  CHINESE ELM  ULMUS  PARVIFOLIA   \n",
       "\n",
       "  status_text  house_number street_direction street_name  ... street_suffix  \\\n",
       "0      Active         850.0              NaN    ADELAIDE  ...           NaN   \n",
       "\n",
       "   trunk_diameter  x_coordinate  y_coordinate  classification_text  \\\n",
       "0            16.0  6.528584e+06  1.880864e+06          Street Tree   \n",
       "\n",
       "              x             y        lat         lon  \\\n",
       "0  6.528584e+06  1.880864e+06  34.160652 -118.109356   \n",
       "\n",
       "                               geodetic_pair  \n",
       "0  (34.160651534763694, -118.10935561976741)  \n",
       "\n",
       "[1 rows x 21 columns]"
      ],
      "text/html": [
       "<div>\n",
       "<style scoped>\n",
       "    .dataframe tbody tr th:only-of-type {\n",
       "        vertical-align: middle;\n",
       "    }\n",
       "\n",
       "    .dataframe tbody tr th {\n",
       "        vertical-align: top;\n",
       "    }\n",
       "\n",
       "    .dataframe thead th {\n",
       "        text-align: right;\n",
       "    }\n",
       "</style>\n",
       "<table border=\"1\" class=\"dataframe\">\n",
       "  <thead>\n",
       "    <tr style=\"text-align: right;\">\n",
       "      <th></th>\n",
       "      <th>objectid</th>\n",
       "      <th>tree_rec</th>\n",
       "      <th>alt_tree_id</th>\n",
       "      <th>common_name</th>\n",
       "      <th>genus</th>\n",
       "      <th>species</th>\n",
       "      <th>status_text</th>\n",
       "      <th>house_number</th>\n",
       "      <th>street_direction</th>\n",
       "      <th>street_name</th>\n",
       "      <th>...</th>\n",
       "      <th>street_suffix</th>\n",
       "      <th>trunk_diameter</th>\n",
       "      <th>x_coordinate</th>\n",
       "      <th>y_coordinate</th>\n",
       "      <th>classification_text</th>\n",
       "      <th>x</th>\n",
       "      <th>y</th>\n",
       "      <th>lat</th>\n",
       "      <th>lon</th>\n",
       "      <th>geodetic_pair</th>\n",
       "    </tr>\n",
       "  </thead>\n",
       "  <tbody>\n",
       "    <tr>\n",
       "      <th>0</th>\n",
       "      <td>2</td>\n",
       "      <td>69861</td>\n",
       "      <td>13</td>\n",
       "      <td>CHINESE ELM</td>\n",
       "      <td>ULMUS</td>\n",
       "      <td>PARVIFOLIA</td>\n",
       "      <td>Active</td>\n",
       "      <td>850.0</td>\n",
       "      <td>NaN</td>\n",
       "      <td>ADELAIDE</td>\n",
       "      <td>...</td>\n",
       "      <td>NaN</td>\n",
       "      <td>16.0</td>\n",
       "      <td>6.528584e+06</td>\n",
       "      <td>1.880864e+06</td>\n",
       "      <td>Street Tree</td>\n",
       "      <td>6.528584e+06</td>\n",
       "      <td>1.880864e+06</td>\n",
       "      <td>34.160652</td>\n",
       "      <td>-118.109356</td>\n",
       "      <td>(34.160651534763694, -118.10935561976741)</td>\n",
       "    </tr>\n",
       "  </tbody>\n",
       "</table>\n",
       "<p>1 rows × 21 columns</p>\n",
       "</div>"
      ]
     },
     "execution_count": 26,
     "metadata": {},
     "output_type": "execute_result"
    }
   ],
   "execution_count": 26
  },
  {
   "metadata": {
    "ExecuteTime": {
     "end_time": "2025-07-30T21:23:28.213371Z",
     "start_time": "2025-07-30T21:23:28.197410Z"
    }
   },
   "cell_type": "code",
   "source": "coords = list(df[\"geodetic_pair\"])",
   "id": "812d9f6f2bbd848f",
   "outputs": [],
   "execution_count": 27
  },
  {
   "metadata": {},
   "cell_type": "markdown",
   "source": "INITIALIZE AND TEST EARTH ENGINE",
   "id": "58a10d54e9eeda85"
  },
  {
   "metadata": {
    "ExecuteTime": {
     "end_time": "2025-07-30T21:23:29.925262Z",
     "start_time": "2025-07-30T21:23:28.284030Z"
    }
   },
   "cell_type": "code",
   "source": [
    "# === EE INIT === #\n",
    "try:\n",
    "    ee.Initialize(project=\"google_project_name-######\")  # Your google project name goes here.\n",
    "except Exception:\n",
    "    ee.Authenticate()\n",
    "    ee.Initialize()"
   ],
   "id": "361a298162d5d0c7",
   "outputs": [],
   "execution_count": 28
  },
  {
   "metadata": {},
   "cell_type": "markdown",
   "source": "",
   "id": "1c887037717fae99"
  },
  {
   "metadata": {},
   "cell_type": "markdown",
   "source": "THIS EE.IMAGECOLLECTION() SETUP GETS 60 CM AND WILL BE USED IN THE 60 CM VERSION OF get_chips() BELOW.",
   "id": "c69672bcbb476c6c"
  },
  {
   "metadata": {
    "ExecuteTime": {
     "end_time": "2025-07-30T21:23:30.231745Z",
     "start_time": "2025-07-30T21:23:29.972879Z"
    }
   },
   "cell_type": "code",
   "source": [
    "# === EE TEST 1=== #\n",
    "random.seed(42)\n",
    "sample_idx = random.randint(0,57069)\n",
    "sample_idx = 0\n",
    "coord = df.iloc[sample_idx][\"geodetic_pair\"]\n",
    "point = ee.Geometry.Point(list(reversed(coord)))  # <--Note: the reversed coords requirement\n",
    "\n",
    "image = ee.ImageCollection('USDA/NAIP/DOQQ') \\\n",
    "    .filterBounds(point) \\\n",
    "    .filterDate('2018-01-01', '2020-12-31') \\\n",
    "    .sort('system:time_start', False) \\\n",
    "    .first()\n",
    "\n",
    "display(image.getInfo())"
   ],
   "id": "bc6d01b88b1addb7",
   "outputs": [
    {
     "data": {
      "text/plain": [
       "{'type': 'Image',\n",
       " 'bands': [{'id': 'R',\n",
       "   'data_type': {'type': 'PixelType',\n",
       "    'precision': 'int',\n",
       "    'min': 0,\n",
       "    'max': 255},\n",
       "   'dimensions': [10390, 12330],\n",
       "   'crs': 'EPSG:26911',\n",
       "   'crs_transform': [0.6, 0, 396060, 0, -0.6, 3783720]},\n",
       "  {'id': 'G',\n",
       "   'data_type': {'type': 'PixelType',\n",
       "    'precision': 'int',\n",
       "    'min': 0,\n",
       "    'max': 255},\n",
       "   'dimensions': [10390, 12330],\n",
       "   'crs': 'EPSG:26911',\n",
       "   'crs_transform': [0.6, 0, 396060, 0, -0.6, 3783720]},\n",
       "  {'id': 'B',\n",
       "   'data_type': {'type': 'PixelType',\n",
       "    'precision': 'int',\n",
       "    'min': 0,\n",
       "    'max': 255},\n",
       "   'dimensions': [10390, 12330],\n",
       "   'crs': 'EPSG:26911',\n",
       "   'crs_transform': [0.6, 0, 396060, 0, -0.6, 3783720]},\n",
       "  {'id': 'N',\n",
       "   'data_type': {'type': 'PixelType',\n",
       "    'precision': 'int',\n",
       "    'min': 0,\n",
       "    'max': 255},\n",
       "   'dimensions': [10390, 12330],\n",
       "   'crs': 'EPSG:26911',\n",
       "   'crs_transform': [0.6, 0, 396060, 0, -0.6, 3783720]}],\n",
       " 'version': 1747193923819894,\n",
       " 'id': 'USDA/NAIP/DOQQ/m_3411856_sw_11_060_20200505',\n",
       " 'properties': {'system:time_start': 1588636800000,\n",
       "  'year': 2020,\n",
       "  'system:footprint': {'type': 'LinearRing',\n",
       "   'coordinates': [[-118.12712271866567, 34.122599094636584],\n",
       "    [-118.12712191506566, 34.122599059600354],\n",
       "    [-118.05955719161953, 34.12320061917132],\n",
       "    [-118.0595541546275, 34.12320285687557],\n",
       "    [-118.05955084966553, 34.12320476988138],\n",
       "    [-118.05955067101894, 34.123205596168056],\n",
       "    [-118.06038405541491, 34.189898629805064],\n",
       "    [-118.06038673510116, 34.1899010918673],\n",
       "    [-118.06038905749585, 34.18990387691144],\n",
       "    [-118.0603898614017, 34.18990399032325],\n",
       "    [-118.06039066530757, 34.18990402558419],\n",
       "    [-118.12800855149041, 34.189300901138715],\n",
       "    [-118.12801158729724, 34.18929866252696],\n",
       "    [-118.12801489096928, 34.18929682607105],\n",
       "    [-118.12801506954615, 34.189295922385526],\n",
       "    [-118.12712852244339, 34.12260437692469],\n",
       "    [-118.12712584377677, 34.122601914891895],\n",
       "    [-118.12712352226568, 34.12259920784766],\n",
       "    [-118.12712271866567, 34.122599094636584]]},\n",
       "  'system:time_end': 1588636800000,\n",
       "  'system:asset_size': 535623503,\n",
       "  'system:index': 'm_3411856_sw_11_060_20200505'}}"
      ]
     },
     "metadata": {},
     "output_type": "display_data"
    }
   ],
   "execution_count": 29
  },
  {
   "metadata": {},
   "cell_type": "markdown",
   "source": "THIS EE.IMAGECOLLECTION() SETUP GETS 30 CM AND WILL BE USED IN THE 30 CM VERSION OF get_chips() BELOW.",
   "id": "b579ee314c56e7a6"
  },
  {
   "metadata": {
    "ExecuteTime": {
     "end_time": "2025-07-30T21:23:30.299007Z",
     "start_time": "2025-07-30T21:23:30.283061Z"
    }
   },
   "cell_type": "code",
   "source": [
    "# # === EE TEST 2 === #\n",
    "# # Replace this with your actual point coordinates\n",
    "# random.seed(42)\n",
    "# sample_idx = random.randint(0,57069)\n",
    "# sample_idx = 0\n",
    "# coord = df.iloc[sample_idx][\"geodetic_pair\"]\n",
    "# point = ee.Geometry.Point(list(reversed(coord)))  # <--Note: the reversed coords requirement\n",
    "#\n",
    "# # Load California boundary to constrain to state-level coverage (optional but useful)\n",
    "# states = ee.FeatureCollection(\"TIGER/2018/States\")\n",
    "# california = states.filter(ee.Filter.eq(\"NAME\", \"California\")).first()\n",
    "#\n",
    "# # Query NAIP imagery that intersects your point and is within California and the right date range\n",
    "# image = ee.ImageCollection(\"USDA/NAIP/DOQQ\") \\\n",
    "#     .filterBounds(california.geometry()) \\\n",
    "#     .filterDate(\"2021-01-01\", \"2024-12-31\") \\\n",
    "#     .sort(\"system:time_start\", False) \\\n",
    "#     .first()\n",
    "#\n",
    "# # Optionally check the GSD to confirm it's 0.3 (30 cm)\n",
    "# gsd = image.select('R').projection().nominalScale()\n",
    "# print(\"Nominal GSD (meters):\", gsd.getInfo())\n",
    "# print(image.getInfo())"
   ],
   "id": "c42518818c816987",
   "outputs": [],
   "execution_count": 30
  },
  {
   "metadata": {},
   "cell_type": "markdown",
   "source": "MAIN CHIP GENERATION",
   "id": "d80971996f391dcd"
  },
  {
   "metadata": {},
   "cell_type": "markdown",
   "source": "60 cm GSD VERSION",
   "id": "2a683d12a393427e"
  },
  {
   "metadata": {
    "ExecuteTime": {
     "end_time": "2025-07-30T21:23:30.336114Z",
     "start_time": "2025-07-30T21:23:30.320016Z"
    }
   },
   "cell_type": "code",
   "source": [
    "# CHIP GENERATION CELL 1.60\n",
    "def get_chip(coord, meters=153.6, pixel_dim=256):\n",
    "    \"\"\"\n",
    "    Generate a NAIP image chip centered on `coord`, ~meters side, as `pixel_dim` × `pixel_dim`.\n",
    "    coord: [lat, lon]\n",
    "    meters: length of one side in meters (112m ≈ 0.07 mi)\n",
    "    pixel_dim: size of the output square image\n",
    "    Returns: URL to download/display PNG chip\n",
    "    \"\"\"\n",
    "    center = ee.Geometry.Point(list(reversed(coord)))\n",
    "    region = center.buffer(meters / 2).bounds()\n",
    "    point = ee.Geometry.Point(list(reversed(coord)))  # <--Note: the reversed coords requirement\n",
    "\n",
    "    ### FOR cm GSD\n",
    "    '''\n",
    "    .filterDate(\"2020-01-01\", \"2022-12-31\") \\\n",
    "    '''\n",
    "    image = ee.ImageCollection('USDA/NAIP/DOQQ') \\\n",
    "        .filterBounds(point) \\\n",
    "        .filterDate('2018-01-01', '2020-12-31') \\\n",
    "        .sort('system:time_start', False) \\\n",
    "        .first()\n",
    "\n",
    "\n",
    "    return image.getThumbURL({\n",
    "        'region': region,\n",
    "        'dimensions': f'{pixel_dim}x{pixel_dim}',\n",
    "        'format': 'GeoTIFF',\n",
    "        'bands': ['R', 'G', 'B'],\n",
    "        'min': 0,\n",
    "        'max': 255,\n",
    "    })"
   ],
   "id": "89a7287bd5f2c1ef",
   "outputs": [],
   "execution_count": 31
  },
  {
   "metadata": {},
   "cell_type": "markdown",
   "source": "30 cm GSD VERSION",
   "id": "edf7298eb659f609"
  },
  {
   "metadata": {
    "ExecuteTime": {
     "end_time": "2025-07-30T21:23:30.369195Z",
     "start_time": "2025-07-30T21:23:30.362147Z"
    }
   },
   "cell_type": "code",
   "source": [
    "# # # CHIP GENERATION CELL 1.30\n",
    "# def get_chip(coord, meters=128, pixel_dim=512): # meters at 128 instead of 153.6\n",
    "#     center = ee.Geometry.Point(list(reversed(coord)))\n",
    "#\n",
    "#     # Load California boundary (needed to force 30cm tiles)\n",
    "#     states = ee.FeatureCollection(\"TIGER/2018/States\")\n",
    "#     california = states.filter(ee.Filter.eq(\"NAME\", \"California\")).first()\n",
    "#\n",
    "#     # Load NAIP image over that location and time\n",
    "#     image = ee.ImageCollection(\"USDA/NAIP/DOQQ\") \\\n",
    "#         .filterBounds(center) \\\n",
    "#         .filterBounds(california.geometry()) \\\n",
    "#         .filterDate(\"2021-01-01\", \"2024-12-31\") \\\n",
    "#         .sort(\"system:time_start\", False) \\\n",
    "#         .first()\n",
    "#\n",
    "#     # gsd = image.select('R').projection().nominalScale()\n",
    "#     # print(\"Detected GSD (meters):\", gsd.getInfo())\n",
    "#     #\n",
    "#     # if image is None:\n",
    "#     #     print(f\"⚠️ No image found at {coord}\")\n",
    "#     #     return None\n",
    "#\n",
    "#     # Build a safe region — intersected with image footprint to avoid blank tiles\n",
    "#     base_region = center.buffer(meters / 2).bounds(1)\n",
    "#     image_geom = image.geometry()\n",
    "#     region = base_region.intersection(image_geom, ee.ErrorMargin(1))  # final guardrail\n",
    "#\n",
    "#     # Return PNG thumbnail URL\n",
    "#     return image.clip(region).getThumbURL({\n",
    "#         'region': region,\n",
    "#         'dimensions': f'{pixel_dim}x{pixel_dim}',\n",
    "#         'format': 'png',\n",
    "#         'bands': ['R', 'G', 'B'],\n",
    "#         'min': 0,\n",
    "#         'max': 255,\n",
    "#     })\n"
   ],
   "id": "e970379e1173dccf",
   "outputs": [],
   "execution_count": 32
  },
  {
   "metadata": {
    "ExecuteTime": {
     "end_time": "2025-07-30T21:23:35.203026Z",
     "start_time": "2025-07-30T21:23:30.402134Z"
    }
   },
   "cell_type": "code",
   "source": [
    "# CHIP GENERATION CELL 2\n",
    "'''\n",
    "Use the coordinate list to generate chips for MVP demo\n",
    "'''\n",
    "# Save chips for MVP demo\n",
    "\n",
    "for i, pair in enumerate(coords):\n",
    "    try:\n",
    "        url = get_chip(pair)\n",
    "        filename = os.path.join(OUTPUT_DIR, f\"image_{i:04d}{IMAGE_EXT}\")\n",
    "        urllib.request.urlretrieve(url, filename)\n",
    "        # print(f\"Saved {filename}\")\n",
    "    except Exception as e:\n",
    "        print(f\"Failed on index {i}: {e}\")\n",
    "    if i == TEST_STOP: break  # COMMENT THIS LINE OUT WHEN NOT TESTING THROUGH PUT\n",
    "print(f\"Saved {i + 1} images\")"
   ],
   "id": "aa2d8298e6c58af5",
   "outputs": [
    {
     "name": "stdout",
     "output_type": "stream",
     "text": [
      "Saved 6 images\n"
     ]
    }
   ],
   "execution_count": 33
  },
  {
   "metadata": {},
   "cell_type": "markdown",
   "source": "# UTILITY FUNCTIONS AND POST GEN DIAGNOSTICS",
   "id": "dfa4716a23f08a29"
  },
  {
   "metadata": {},
   "cell_type": "markdown",
   "source": "## CRASH RECOVERY - IF IMAGE GENERATION IS INTERRUPTED, ACTIVATE RECOVERY CELLS 1 & 2, FOLLOW INSTRUCTIONS IN RECOVERY CELL 2",
   "id": "5408b65654ba455d"
  },
  {
   "metadata": {
    "ExecuteTime": {
     "end_time": "2025-07-30T21:23:35.264607Z",
     "start_time": "2025-07-30T21:23:35.256025Z"
    }
   },
   "cell_type": "code",
   "source": [
    "## RECOVERY CELL 1 - FOLLOW \"Image-gen crash recovery MADE EASY\", CLEAR, RERUN\n",
    "'''\n",
    "# Image-gen crash recovery MADE EASY\n",
    "# visually inspect image dir to get image_count after a break and/or inspect the filename of the last image saved and note the digits in the image file name.\n",
    "# stopped_at = the digits in the image file name\n",
    "'''\n",
    "stopped_at_image = 5\n",
    "continued_at = stopped_at_image + 1\n",
    "leftover_coords = coords[continued_at:]\n",
    "len(coords[continued_at:])"
   ],
   "id": "dfc09a293247bcc7",
   "outputs": [
    {
     "data": {
      "text/plain": [
       "57064"
      ]
     },
     "execution_count": 34,
     "metadata": {},
     "output_type": "execute_result"
    }
   ],
   "execution_count": 34
  },
  {
   "metadata": {
    "ExecuteTime": {
     "end_time": "2025-07-30T21:23:40.479082Z",
     "start_time": "2025-07-30T21:23:35.288789Z"
    }
   },
   "cell_type": "code",
   "source": [
    "## RECOVERY CELL 2 - COMMENT OUT CHIP GENERATION CELL 2, FOLLOW INSTRUCTIONS IN RECOVERY CELL 1\n",
    "'''\n",
    "Repeating the same loop, but with the left over slice\n",
    "'''\n",
    "i = 5\n",
    "for i, pair in enumerate(leftover_coords):\n",
    "    try:\n",
    "        url = get_chip(pair)\n",
    "        filename = os.path.join(OUTPUT_DIR, f\"image_{i + continued_at:04d}{IMAGE_EXT}\")\n",
    "\n",
    "        urllib.request.urlretrieve(url, filename)\n",
    "        # print(f\"Saved {filename}\")\n",
    "    except Exception as e:\n",
    "        print(f\"Failed on index {i}: {e}\")\n",
    "    if i == TEST_STOP: break  # COMMENT THIS LINE OUT WHEN NOT TESTING THROUGH PUT\n",
    "print(f\"Saved {i + 1} images\")"
   ],
   "id": "a3537848091f7f3a",
   "outputs": [
    {
     "name": "stdout",
     "output_type": "stream",
     "text": [
      "Saved 6 images\n"
     ]
    }
   ],
   "execution_count": 35
  },
  {
   "metadata": {},
   "cell_type": "markdown",
   "source": "SPOT CHECK IMAGE FORMAT - FILENAMES ARE SEQUENTIAL",
   "id": "d38d3d7934b8232d"
  },
  {
   "metadata": {
    "ExecuteTime": {
     "end_time": "2025-07-30T21:23:40.520428Z",
     "start_time": "2025-07-30T21:23:40.508829Z"
    }
   },
   "cell_type": "code",
   "source": [
    "# TEST_IMAGE_1 = os.path.join(OUTPUT_DIR, f\"image_{(random.randint(0, len(coords) - 1)):04d}{IMAGE_EXT}\")   # IMAGE IDX IS USED IN THE FILENAME AND IS AN INT ON LINESPACE 0 - LEN(DATA) - 1\n",
    "TEST_IMAGE_1 = os.path.join(OUTPUT_DIR, f\"image_{(random.randint(0, TEST_STOP*2)):04d}{IMAGE_EXT}\")\n",
    "TEST_IMAGE_1"
   ],
   "id": "78b766b97f4b9a51",
   "outputs": [
    {
     "data": {
      "text/plain": [
       "'chips\\\\final\\\\image_0001.tif'"
      ]
     },
     "execution_count": 36,
     "metadata": {},
     "output_type": "execute_result"
    }
   ],
   "execution_count": 36
  },
  {
   "metadata": {
    "ExecuteTime": {
     "end_time": "2025-07-30T21:23:40.579223Z",
     "start_time": "2025-07-30T21:23:40.569684Z"
    }
   },
   "cell_type": "code",
   "source": [
    "def compare_metas(sample_geo, i, img_tup):\n",
    "    with rasterio.open(sample_geo) as src:\n",
    "        metadata = src.meta\n",
    "        tags = src.tags()\n",
    "        print(f\"***********************************FOR TEST IMAGE {img_tup[i]}*******************************\")\n",
    "        print(\"Basic metadata:\", metadata)\n",
    "        print(\"Full tags (including CRS info):\", tags)\n",
    "        print(\"\\n\")"
   ],
   "id": "384e7b92a9ac7e74",
   "outputs": [],
   "execution_count": 37
  },
  {
   "metadata": {
    "ExecuteTime": {
     "end_time": "2025-07-30T21:23:40.655152Z",
     "start_time": "2025-07-30T21:23:40.604271Z"
    }
   },
   "cell_type": "code",
   "source": [
    "geo_samples = [TEST_IMAGE_1]\n",
    "for i, sample in enumerate(geo_samples):compare_metas(sample, i, (1,3))"
   ],
   "id": "206c084b0e999898",
   "outputs": [
    {
     "name": "stdout",
     "output_type": "stream",
     "text": [
      "***********************************FOR TEST IMAGE 1*******************************\n",
      "Basic metadata: {'driver': 'GTiff', 'dtype': 'uint8', 'nodata': 0.0, 'width': 256, 'height': 256, 'count': 3, 'crs': CRS.from_wkt('PROJCS[\"NAD83 / UTM zone 11N\",GEOGCS[\"NAD83\",DATUM[\"North_American_Datum_1983\",SPHEROID[\"GRS 1980\",6378137,298.257222101,AUTHORITY[\"EPSG\",\"7019\"]],AUTHORITY[\"EPSG\",\"6269\"]],PRIMEM[\"Greenwich\",0,AUTHORITY[\"EPSG\",\"8901\"]],UNIT[\"degree\",0.0174532925199433,AUTHORITY[\"EPSG\",\"9122\"]],AUTHORITY[\"EPSG\",\"4269\"]],PROJECTION[\"Transverse_Mercator\"],PARAMETER[\"latitude_of_origin\",0],PARAMETER[\"central_meridian\",-117],PARAMETER[\"scale_factor\",0.9996],PARAMETER[\"false_easting\",500000],PARAMETER[\"false_northing\",0],UNIT[\"metre\",1,AUTHORITY[\"EPSG\",\"9001\"]],AXIS[\"Easting\",EAST],AXIS[\"Northing\",NORTH],AUTHORITY[\"EPSG\",\"26911\"]]'), 'transform': Affine(0.6040460015702592, 0.0, 397666.9570184235,\n",
      "       0.0, -0.6051055637064564, 3780611.3559153015)}\n",
      "Full tags (including CRS info): {'TIFFTAG_XRESOLUTION': '1', 'TIFFTAG_YRESOLUTION': '1', 'TIFFTAG_RESOLUTIONUNIT': '1 (unitless)', 'AREA_OR_POINT': 'Area'}\n",
      "\n",
      "\n"
     ]
    }
   ],
   "execution_count": 38
  },
  {
   "metadata": {},
   "cell_type": "markdown",
   "source": "GAP CHECK/FIXER - filenames are sequential - we use this fact to hunt for missing images",
   "id": "1ef5238eefcff4ce"
  },
  {
   "metadata": {},
   "cell_type": "markdown",
   "source": "TO CHECK FOR/FIX GAPS IN FILE GEN - ACTIVATE GAP CELL 1 AND FOLLOW THE INSTRUCTIONS",
   "id": "e171ce17cf7f98"
  },
  {
   "metadata": {
    "ExecuteTime": {
     "end_time": "2025-07-30T21:23:40.702419Z",
     "start_time": "2025-07-30T21:23:40.688422Z"
    }
   },
   "cell_type": "code",
   "source": [
    "## GAP CELL 1 - RUN THIS CELL (COLD OR HOT).\n",
    "## IF THERE IS 1 OR MORE LINES OF --> \"Gap between: 19810 and 19812 (missing index: 19811)\" PRINTED, ACTIVATE GAP CELL 2 AND PROCEED\n",
    "## NO PRINT == NO GAPS IN IMAGE GENERATION\n",
    "# Load and sort file indices\n",
    "image_dir = OUTPUT_DIR\n",
    "file_list = sorted(\n",
    "    [int(f.split(\"_\")[1].split(\".\")[0]) for f in os.listdir(image_dir) if f.endswith(f\"{IMAGE_EXT}\")]\n",
    ")\n",
    "gap_list = []\n",
    "# Scan for gap\n",
    "for i in range(1, len(file_list)):\n",
    "    if file_list[i] - file_list[i - 1] > 1:\n",
    "        gap_list.append(int(file_list[i - 1] + 1))\n",
    "        print(f\"Gap between: {file_list[i - 1]} and {file_list[i]} (missing index: {file_list[i - 1] + 1})\")"
   ],
   "id": "4bbdfc96cf95bbed",
   "outputs": [],
   "execution_count": 39
  },
  {
   "metadata": {
    "ExecuteTime": {
     "end_time": "2025-07-30T21:23:40.735884Z",
     "start_time": "2025-07-30T21:23:40.726524Z"
    }
   },
   "cell_type": "code",
   "source": [
    "## GAP CELL 1 - ONLY RUN THIS CELL IF THERE IS 1 OR MORE LINES OF --> \"Gap between: 19810 and 19812 (missing index: 19811)\" PRINTED BY GAP CELL 1\n",
    "## Note: FROM A COLD START (EMPTY NAMESPACE), DEACTIVATE \"CHIP GENERATION CELL 2\" AND RUN THE BOOK FROM THE TOP TO RECOVER MISSING CHIPS\n",
    "for gap in gap_list:\n",
    "    pair = coords[gap]\n",
    "    url = get_chip(pair)\n",
    "    filename = os.path.join(OUTPUT_DIR, f\"image_{gap:04d}{IMAGE_EXT}\")\n",
    "    urllib.request.urlretrieve(url, filename)\n",
    "    print(f\"Recovered: image_{gap:04d}{IMAGE_EXT}\")"
   ],
   "id": "2b168c2e7b1af38e",
   "outputs": [],
   "execution_count": 40
  },
  {
   "metadata": {},
   "cell_type": "markdown",
   "source": "CHECK FOR DUPLICATES IMAGES",
   "id": "225547b265573b92"
  },
  {
   "metadata": {
    "ExecuteTime": {
     "end_time": "2025-07-30T21:23:40.780891Z",
     "start_time": "2025-07-30T21:23:40.757280Z"
    }
   },
   "cell_type": "code",
   "source": [
    "# check for duplicate images\n",
    "def file_md5(path):\n",
    "    with open(path, 'rb') as f:\n",
    "        return hashlib.md5(f.read()).hexdigest()\n",
    "\n",
    "image_dir = OUTPUT_DIR\n",
    "hash_to_original = {}\n",
    "duplicate_map = {}\n",
    "\n",
    "for fname in sorted(os.listdir(image_dir)):  # Sort for consistent \"first is original\"\n",
    "    if fname.endswith(f\"{IMAGE_EXT}\"):\n",
    "        path = os.path.join(image_dir, fname)\n",
    "        h = file_md5(path)\n",
    "        if h in hash_to_original:\n",
    "            duplicate_map[fname] = hash_to_original[h]\n",
    "        else:\n",
    "            hash_to_original[h] = fname\n",
    "\n",
    "print(f\"Total duplicates: {len(duplicate_map)}\")\n",
    "\n",
    "# Preview or export\n",
    "for dup, orig in duplicate_map.items():\n",
    "    print(f\"{dup} is a duplicate of {orig}\")\n"
   ],
   "id": "a66c413d47bd46ed",
   "outputs": [
    {
     "name": "stdout",
     "output_type": "stream",
     "text": [
      "Total duplicates: 0\n"
     ]
    }
   ],
   "execution_count": 41
  },
  {
   "metadata": {},
   "cell_type": "markdown",
   "source": "MASS RENAME (IF NEEDED)",
   "id": "a911e964efef6d3"
  },
  {
   "metadata": {
    "ExecuteTime": {
     "end_time": "2025-07-30T21:23:40.827526Z",
     "start_time": "2025-07-30T21:23:40.815170Z"
    }
   },
   "cell_type": "code",
   "source": [
    "# # Paths\n",
    "# source_dir = \"path\"  # Directory with the original .tiff files\n",
    "# image_titles = df[\"image_title\"].tolist()\n",
    "#\n",
    "# # List and sort files\n",
    "# files = sorted([f for f in os.listdir(source_dir) if f.endswith('.tiff')])\n",
    "#\n",
    "# # Destination dir (you can use the same as source_dir if needed, or point to a new one)\n",
    "# target_dir = \"path\"\n",
    "# os.makedirs(target_dir, exist_ok=True)\n",
    "#\n",
    "# # Rename process\n",
    "# count_by_name = {}  # Will track usage of a given new_filename\n",
    "#\n",
    "# for i, old_filename in enumerate(files):\n",
    "#     base_name = image_titles[i]           # New filename candidate\n",
    "#     candidate_name = base_name            # Will be modified if duplicated\n",
    "#\n",
    "#     if candidate_name in count_by_name:\n",
    "#         # We've seen this name before, increment suffix\n",
    "#         count_by_name[base_name] += 1\n",
    "#         candidate_name = f\"{base_name}_{count_by_name[base_name]}\"\n",
    "#     else:\n",
    "#         # First time seeing this name\n",
    "#         count_by_name[base_name] = 0\n",
    "#\n",
    "#     new_filename = candidate_name\n",
    "#     old_path = os.path.join(source_dir, old_filename)\n",
    "#     new_path = os.path.join(target_dir, new_filename)\n",
    "#\n",
    "#     shutil.copy2(old_path, new_path)\n",
    "#\n",
    "# # Done\n",
    "# print(f\"Renamed and copied {len(files)} files to {target_dir}\")\n"
   ],
   "id": "bd486767fc50e206",
   "outputs": [],
   "execution_count": 42
  },
  {
   "metadata": {},
   "cell_type": "markdown",
   "source": "# END OF FILE",
   "id": "e7f7f09213f3bfee"
  }
 ],
 "metadata": {
  "kernelspec": {
   "display_name": "Python 3 (ipykernel)",
   "language": "python",
   "name": "python3"
  },
  "language_info": {
   "codemirror_mode": {
    "name": "ipython",
    "version": 3
   },
   "file_extension": ".py",
   "mimetype": "text/x-python",
   "name": "python",
   "nbconvert_exporter": "python",
   "pygments_lexer": "ipython3",
   "version": "3.10.15"
  }
 },
 "nbformat": 4,
 "nbformat_minor": 5
}
