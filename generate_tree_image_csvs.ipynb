{
 "cells": [
  {
   "cell_type": "markdown",
   "id": "daaf4551-c29b-4b3f-bfe7-a52c51eb5bbb",
   "metadata": {},
   "source": [
    "# Summary\n",
    "\n",
    "This document details a Python script that generates image files and corresponding CSV files from tree data in Pasadena, California, using satellite imagery from Google Earth Engine (GEE). Below is an overview of its key components and functionality:\n",
    "\n",
    "## Key Components and Functionality\n",
    "\n",
    "- **Libraries Used**: Imports `pandas`, `geopandas`, `shapely`, `ee` (Earth Engine), `os`, `urllib.request`, and `tqdm` for data manipulation, geospatial operations, API interactions, file handling, and progress tracking.\n",
    "- **GEE Authentication**: Authenticates and initializes the GEE API to access satellite imagery.\n",
    "- **Data Input**: Loads tree data from `pasadena.csv`, standardizing column names to lowercase.\n",
    "- **GeoDataFrame Setup**: Converts tree coordinates into a GeoDataFrame with EPSG:2229 (State Plane California Zone V) CRS.\n",
    "- **Grid Setup**: Defines grid cells with a side length of 112 meters (converted to feet) and image dimensions of 224x224 pixels.\n",
    "- **Grid Calculation**: Determines grid extent from tree data and calculates bottom-left corners of grid cells.\n",
    "- **Cell Processing**:\n",
    "  - A function `process_grid_cell` processes each grid cell by:\n",
    "    - Defining cell bounds and selecting trees within them.\n",
    "    - Skipping empty cells.\n",
    "    - Creating a polygon in EPSG:2229, converting it to WGS84 for GEE.\n",
    "    - Fetching the latest NAIP imagery, generating a thumbnail URL, and saving it as a PNG.\n",
    "    - Calculating relative pixel coordinates (`x`, `y`) for trees within the image.\n",
    "    - Saving tree data (`treeID`, `x`, `y`) as a CSV file.\n",
    "- **Execution**: Loops through all grid cells with a `tqdm` progress bar, processing each one.\n",
    "- **Output**: Saves PNG images and CSV files to `chips/pasadena_data`.\n",
    "\n",
    "## Purpose\n",
    "The script prepares geospatial tree data for urban or environmental analysis, producing a structured dataset of images and tree locations suitable for GreenCity project."
   ]
  },
  {
   "cell_type": "code",
   "execution_count": 1,
   "id": "506781c3-3cae-490c-ae8b-35fbd789d422",
   "metadata": {},
   "outputs": [],
   "source": [
    "import pandas as pd\n",
    "import geopandas as gpd\n",
    "from shapely.geometry import Point, Polygon\n",
    "import ee\n",
    "import os\n",
    "import urllib.request\n",
    "from tqdm import tqdm"
   ]
  },
  {
   "cell_type": "code",
   "execution_count": 2,
   "id": "59e472b9-1790-4772-a00c-a286938ad00a",
   "metadata": {
    "tags": []
   },
   "outputs": [],
   "source": [
    "# Authenticate and initialize the Earth Engine API\n",
    "ee.Authenticate()\n",
    "# Initialize GEE\n",
    "ee.Initialize(project='') # Replace with you GEE project ID"
   ]
  },
  {
   "cell_type": "code",
   "execution_count": 3,
   "id": "923a3915-6d46-4b5a-bdd9-281039181fd0",
   "metadata": {},
   "outputs": [],
   "source": [
    "# Load Pasadena tree data\n",
    "df = pd.read_csv(\"pasadena.csv\")\n",
    "df.columns = df.columns.str.lower()"
   ]
  },
  {
   "cell_type": "code",
   "execution_count": 4,
   "id": "aca47106-3e77-4d70-b485-09c0b02a0805",
   "metadata": {},
   "outputs": [],
   "source": [
    "# Create GeoDataFrame in EPSG:2229 (State Plane California Zone V, feet)\n",
    "gdf = gpd.GeoDataFrame(\n",
    "    df,\n",
    "    geometry=gpd.points_from_xy(df[\"x_coordinate\"], df[\"y_coordinate\"]),\n",
    "    crs=\"EPSG:2229\",\n",
    ")"
   ]
  },
  {
   "cell_type": "code",
   "execution_count": 5,
   "id": "e41e170a-de65-4ea0-86c5-279b12f81903",
   "metadata": {},
   "outputs": [],
   "source": [
    "# Define grid parameters\n",
    "meters_per_side = 112  # Side length of each grid cell in meters\n",
    "feet_per_side = meters_per_side * 3.28084  # Convert meters to feet\n",
    "pixel_dim = 224  # Image dimensions in pixels (224x224)\n",
    "output_dir = \"chips/pasadena_data\"\n",
    "os.makedirs(output_dir, exist_ok=True)"
   ]
  },
  {
   "cell_type": "code",
   "execution_count": 6,
   "id": "417f333a-8e69-4f8e-8d6e-a6e90429592f",
   "metadata": {},
   "outputs": [],
   "source": [
    "# Calculate grid bounds\n",
    "min_x, min_y, max_x, max_y = gdf.total_bounds"
   ]
  },
  {
   "cell_type": "code",
   "execution_count": 7,
   "id": "618660d4-02bd-436a-8fa2-801fc6aa5f96",
   "metadata": {
    "lines_to_next_cell": 1
   },
   "outputs": [],
   "source": [
    "# Generate grid cell bottom-left corners\n",
    "x_steps = int((max_x - min_x) / feet_per_side) + 1\n",
    "y_steps = int((max_y - min_y) / feet_per_side) + 1\n",
    "grid_cells = [\n",
    "    (min_x + i * feet_per_side, min_y + j * feet_per_side)\n",
    "    for i in range(x_steps)\n",
    "    for j in range(y_steps)\n",
    "]"
   ]
  },
  {
   "cell_type": "code",
   "execution_count": 8,
   "id": "441753cf-2fc4-4265-8bb9-5bca56ec8d6b",
   "metadata": {
    "lines_to_next_cell": 1
   },
   "outputs": [],
   "source": [
    "# Function to process each grid cell\n",
    "def process_grid_cell(cell_x, cell_y):\n",
    "    # Define cell bounds in EPSG:2229\n",
    "    cell_min_x = cell_x\n",
    "    cell_max_x = cell_x + feet_per_side\n",
    "    cell_min_y = cell_y\n",
    "    cell_max_y = cell_y + feet_per_side\n",
    "\n",
    "    # Select trees within this cell\n",
    "    trees_in_cell = gdf[\n",
    "        (gdf[\"x_coordinate\"] >= cell_min_x)\n",
    "        & (gdf[\"x_coordinate\"] < cell_max_x)\n",
    "        & (gdf[\"y_coordinate\"] >= cell_min_y)\n",
    "        & (gdf[\"y_coordinate\"] < cell_max_y)\n",
    "    ]\n",
    "\n",
    "    if trees_in_cell.empty:\n",
    "        return  # Skip cells with no trees\n",
    "\n",
    "    # Create polygon for the cell in EPSG:2229\n",
    "    cell_polygon = Polygon(\n",
    "        [\n",
    "            (cell_min_x, cell_min_y),\n",
    "            (cell_max_x, cell_min_y),\n",
    "            (cell_max_x, cell_max_y),\n",
    "            (cell_min_x, cell_max_y),\n",
    "        ]\n",
    "    )\n",
    "\n",
    "    # Convert cell bounds to WGS84 for GEE\n",
    "    cell_gdf = gpd.GeoSeries([cell_polygon], crs=\"EPSG:2229\").to_crs(\"EPSG:4326\")\n",
    "    cell_coords = list(cell_gdf.geometry[0].exterior.coords)\n",
    "    region = ee.Geometry.Polygon(cell_coords)\n",
    "\n",
    "    # Fetch NAIP image\n",
    "    image = (\n",
    "        ee.ImageCollection(\"USDA/NAIP/DOQQ\")\n",
    "        .filterBounds(region)\n",
    "        .filterDate(\"2020-01-01\", \"2022-12-31\")\n",
    "        .sort(\"system:time_start\", False)\n",
    "        .first()\n",
    "        .clip(region)\n",
    "    )\n",
    "\n",
    "    # Generate thumbnail URL in EPSG:2229 projection\n",
    "    url = image.getThumbURL({\n",
    "        'region': region,\n",
    "        'dimensions': f'{pixel_dim}x{pixel_dim}',\n",
    "        'format': 'png',\n",
    "        'bands': ['N', 'R', 'G'],\n",
    "        'min': 0,\n",
    "        'max': 255,\n",
    "        'crs': 'EPSG:2229',  # Ensure image projection matches tree coordinates\n",
    "    })\n",
    "\n",
    "    # Save image\n",
    "    image_filename = f\"image_{cell_x:.0f}_{cell_y:.0f}.png\"\n",
    "    image_path = os.path.join(output_dir, image_filename)\n",
    "    urllib.request.urlretrieve(url, image_path)\n",
    "\n",
    "    # Calculate relative pixel coordinates\n",
    "    scale_x = (cell_max_x - cell_min_x) / pixel_dim\n",
    "    scale_y = (cell_max_y - cell_min_y) / pixel_dim\n",
    "    trees_in_cell = trees_in_cell.copy()\n",
    "    trees_in_cell[\"x\"] = ((trees_in_cell[\"x_coordinate\"] - cell_min_x) / scale_x).astype(int)\n",
    "    trees_in_cell[\"y\"] = ((cell_max_y - trees_in_cell[\"y_coordinate\"]) / scale_y).astype(int)\n",
    "\n",
    "    # Prepare CSV data with treeID, x, y\n",
    "    csv_data = trees_in_cell[[\"objectid\", \"x\", \"y\"]].rename(columns={\"objectid\": \"treeID\"})\n",
    "\n",
    "    # Save CSV\n",
    "    csv_filename = f\"image_{cell_x:.0f}_{cell_y:.0f}.csv\"\n",
    "    csv_path = os.path.join(output_dir, csv_filename)\n",
    "    csv_data.to_csv(csv_path, index=False)"
   ]
  },
  {
   "cell_type": "code",
   "execution_count": 9,
   "id": "3a3a4dfb-c780-4413-88d4-ed1bbb3ada5b",
   "metadata": {},
   "outputs": [
    {
     "name": "stderr",
     "output_type": "stream",
     "text": [
      "Processing grid cells: 100%|██████████| 8787/8787 [20:15<00:00,  7.23it/s]  \n"
     ]
    }
   ],
   "source": [
    "# Process all grid cells with progress bar\n",
    "for cell_x, cell_y in tqdm(grid_cells, desc=\"Processing grid cells\"):\n",
    "    process_grid_cell(cell_x, cell_y)"
   ]
  },
  {
   "cell_type": "code",
   "execution_count": 10,
   "id": "c08b10ef-b308-434b-b869-2e22de6e99d1",
   "metadata": {},
   "outputs": [
    {
     "name": "stdout",
     "output_type": "stream",
     "text": [
      "Processing complete. Images and CSVs saved to chips/pasadena_data\n"
     ]
    }
   ],
   "source": [
    "print(f\"Processing complete. Images and CSVs saved to {output_dir}\")"
   ]
  },
  {
   "cell_type": "code",
   "execution_count": null,
   "id": "4cdb4d0b-c6ec-4aec-90d1-fb115c92d54c",
   "metadata": {},
   "outputs": [],
   "source": []
  }
 ],
 "metadata": {
  "environment": {
   "kernel": "python3",
   "name": "common-cu124.m127",
   "type": "gcloud",
   "uri": "us-docker.pkg.dev/deeplearning-platform-release/gcr.io/base-cu124:m127"
  },
  "kernelspec": {
   "display_name": "Python 3 (Local)",
   "language": "python",
   "name": "python3"
  },
  "language_info": {
   "codemirror_mode": {
    "name": "ipython",
    "version": 3
   },
   "file_extension": ".py",
   "mimetype": "text/x-python",
   "name": "python",
   "nbconvert_exporter": "python",
   "pygments_lexer": "ipython3",
   "version": "3.10.16"
  }
 },
 "nbformat": 4,
 "nbformat_minor": 5
}
